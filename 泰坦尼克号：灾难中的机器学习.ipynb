{
 "cells": [
  {
   "attachments": {
    "image.png": {
     "image/png": "[encoded data removed]"
    }
   },
   "cell_type": "markdown",
   "metadata": {
    "ExecuteTime": {
     "end_time": "2019-02-16T12:14:54.150636Z",
     "start_time": "2019-02-16T12:14:54.142931Z"
    }
   },
   "source": [
    "说明：泰坦尼克号乘船事件，都是大家所熟知的历史事件，就不多述说事情起因了\n",
    "\n",
    "我们的目的，就是通过此次事件，通过乘客的信息来预测人员的存活率。这也是一个典型的分类预测问题。\n",
    "\n",
    "这里还是以特征入手，我们看下面的特征很少\n",
    "\n",
    "![image.png](attachment:image.png)\n",
    "\n",
    "pclass: A proxy for socio-economic status (SES)\n",
    "1st = Upper\n",
    "2nd = Middle\n",
    "3rd = Lower\n",
    "\n",
    "age: Age is fractional if less than 1. If the age is estimated, is it in the form of xx.5\n",
    "\n",
    "sibsp: The dataset defines family relations in this way...\n",
    "Sibling = brother, sister, stepbrother, stepsister\n",
    "Spouse = husband, wife (mistresses and fiancés were ignored)\n",
    "\n",
    "parch: The dataset defines family relations in this way...\n",
    "Parent = mother, father\n",
    "Child = daughter, son, stepdaughter, stepson\n",
    "Some children travelled only with a nanny, therefore parch=0 for them.\n",
    "\n",
    "很可能到后面我们还需要用到组合特征来提高预测的准确率"
   ]
  },
  {
   "cell_type": "markdown",
   "metadata": {},
   "source": [
    "还是老样子，先加载数据，然后来看看数据的情况，是否存在异常值，缺失值等。"
   ]
  },
  {
   "cell_type": "code",
   "execution_count": 1,
   "metadata": {
    "ExecuteTime": {
     "end_time": "2019-07-06T15:27:18.205427Z",
     "start_time": "2019-07-06T15:27:17.792284Z"
    }
   },
   "outputs": [],
   "source": [
    "import numpy as np\n",
    "import pandas as pd\n",
    "import matplotlib.pyplot as plt\n",
    "import copy"
   ]
  },
  {
   "cell_type": "code",
   "execution_count": 2,
   "metadata": {
    "ExecuteTime": {
     "end_time": "2019-07-06T15:27:18.208480Z",
     "start_time": "2019-07-06T15:27:18.206448Z"
    }
   },
   "outputs": [],
   "source": [
    "def loaddata(file, train=True):\n",
    "    if train:\n",
    "        data_train = pd.read_csv(file)\n",
    "        return data_train\n",
    "    else:\n",
    "        data_test = pd.read_csv(file)\n",
    "        return data_test"
   ]
  },
  {
   "cell_type": "code",
   "execution_count": 3,
   "metadata": {
    "ExecuteTime": {
     "end_time": "2019-07-06T15:27:18.227137Z",
     "start_time": "2019-07-06T15:27:18.209719Z"
    }
   },
   "outputs": [],
   "source": [
    "data_train = loaddata('./数据集/train.csv')\n",
    "data_test = loaddata('./数据集/test.csv')\n",
    "\n",
    "data_train.drop('Ticket', inplace=True, axis=1)\n",
    "data_test.drop('Ticket', inplace=True, axis=1)"
   ]
  },
  {
   "cell_type": "code",
   "execution_count": 4,
   "metadata": {
    "ExecuteTime": {
     "end_time": "2019-07-06T15:27:18.235208Z",
     "start_time": "2019-07-06T15:27:18.228321Z"
    }
   },
   "outputs": [
    {
     "name": "stdout",
     "output_type": "stream",
     "text": [
      "<class 'pandas.core.frame.DataFrame'>\n",
      "RangeIndex: 891 entries, 0 to 890\n",
      "Data columns (total 11 columns):\n",
      "PassengerId    891 non-null int64\n",
      "Survived       891 non-null int64\n",
      "Pclass         891 non-null int64\n",
      "Name           891 non-null object\n",
      "Sex            891 non-null object\n",
      "Age            714 non-null float64\n",
      "SibSp          891 non-null int64\n",
      "Parch          891 non-null int64\n",
      "Fare           891 non-null float64\n",
      "Cabin          204 non-null object\n",
      "Embarked       889 non-null object\n",
      "dtypes: float64(2), int64(5), object(4)\n",
      "memory usage: 76.6+ KB\n"
     ]
    }
   ],
   "source": [
    "data_train.info()"
   ]
  },
  {
   "cell_type": "code",
   "execution_count": 5,
   "metadata": {
    "ExecuteTime": {
     "end_time": "2019-07-06T15:27:18.240503Z",
     "start_time": "2019-07-06T15:27:18.236153Z"
    }
   },
   "outputs": [
    {
     "name": "stdout",
     "output_type": "stream",
     "text": [
      "<class 'pandas.core.frame.DataFrame'>\n",
      "RangeIndex: 418 entries, 0 to 417\n",
      "Data columns (total 10 columns):\n",
      "PassengerId    418 non-null int64\n",
      "Pclass         418 non-null int64\n",
      "Name           418 non-null object\n",
      "Sex            418 non-null object\n",
      "Age            332 non-null float64\n",
      "SibSp          418 non-null int64\n",
      "Parch          418 non-null int64\n",
      "Fare           417 non-null float64\n",
      "Cabin          91 non-null object\n",
      "Embarked       418 non-null object\n",
      "dtypes: float64(2), int64(4), object(4)\n",
      "memory usage: 32.7+ KB\n"
     ]
    }
   ],
   "source": [
    "data_test.info()"
   ]
  },
  {
   "cell_type": "markdown",
   "metadata": {},
   "source": [
    "很明显存在缺失值，需要补全，方法还是采用预测补全，异常值这边就不看了，就这么几个数据，也看不出个什么异常值。同时，这边对于数据缺失过多的，也不丢弃了，全部都用上。"
   ]
  },
  {
   "cell_type": "code",
   "execution_count": 6,
   "metadata": {
    "ExecuteTime": {
     "end_time": "2019-07-06T15:27:18.579545Z",
     "start_time": "2019-07-06T15:27:18.241384Z"
    }
   },
   "outputs": [],
   "source": [
    "from sklearn.preprocessing import LabelEncoder\n",
    "from sklearn.model_selection import train_test_split"
   ]
  },
  {
   "cell_type": "code",
   "execution_count": 7,
   "metadata": {
    "ExecuteTime": {
     "end_time": "2019-07-06T15:27:18.585999Z",
     "start_time": "2019-07-06T15:27:18.580633Z"
    }
   },
   "outputs": [],
   "source": [
    "X_train = data_train[data_train.columns[2:]]\n",
    "y_train = data_train[data_train.columns[1]]\n",
    "\n",
    "X_test = data_test[data_test.columns[1:]]\n",
    "\n",
    "X_train_copy = X_train.copy()\n",
    "X_test_copy = X_test.copy()\n",
    "\n",
    "le = LabelEncoder()\n",
    "y_train = le.fit_transform(y_train)"
   ]
  },
  {
   "cell_type": "markdown",
   "metadata": {},
   "source": [
    "先对缺失数据补全，类别数据替换为NaN，数值替换为0；再进行类比转换。"
   ]
  },
  {
   "cell_type": "code",
   "execution_count": 8,
   "metadata": {
    "ExecuteTime": {
     "end_time": "2019-07-06T15:27:18.590086Z",
     "start_time": "2019-07-06T15:27:18.587443Z"
    }
   },
   "outputs": [],
   "source": [
    "import warnings\n",
    "warnings.filterwarnings('ignore')"
   ]
  },
  {
   "cell_type": "code",
   "execution_count": 9,
   "metadata": {
    "ExecuteTime": {
     "end_time": "2019-07-06T15:27:18.593881Z",
     "start_time": "2019-07-06T15:27:18.591265Z"
    }
   },
   "outputs": [],
   "source": [
    "def fillna(X):\n",
    "    for i in X.columns:\n",
    "        if X[i].dtype == 'O':\n",
    "            X[i].fillna('NaN', inplace=True)\n",
    "        else:\n",
    "            X[i].fillna(0, inplace=True)\n",
    "    return X"
   ]
  },
  {
   "cell_type": "code",
   "execution_count": 10,
   "metadata": {
    "ExecuteTime": {
     "end_time": "2019-07-06T15:27:19.030989Z",
     "start_time": "2019-07-06T15:27:18.594955Z"
    }
   },
   "outputs": [],
   "source": [
    "X_train = fillna(X_train)\n",
    "X_test = fillna(X_test)"
   ]
  },
  {
   "cell_type": "code",
   "execution_count": 11,
   "metadata": {
    "ExecuteTime": {
     "end_time": "2019-07-06T15:27:19.034110Z",
     "start_time": "2019-07-06T15:27:19.031997Z"
    }
   },
   "outputs": [],
   "source": [
    "cols = ['Age', 'Fare']\n",
    "\n",
    "def log_normalization(X, cols=cols):\n",
    "    for i in cols:\n",
    "        X[i] = np.log1p(X[i])\n",
    "    return X"
   ]
  },
  {
   "cell_type": "code",
   "execution_count": 12,
   "metadata": {
    "ExecuteTime": {
     "end_time": "2019-07-06T15:27:19.041276Z",
     "start_time": "2019-07-06T15:27:19.035103Z"
    }
   },
   "outputs": [],
   "source": [
    "# X_train = log_normalization(X_train)\n",
    "# X_test = log_normalization(X_test)"
   ]
  },
  {
   "cell_type": "markdown",
   "metadata": {},
   "source": [
    "因为这里我们还需要对Cabin这个字段进行缺失值预测，观测数据内容，是按照字母+数字组合的，需要先将其拆开，但又再想想，对于这个字段的预测并不容易，因存在一个人都多个房间号，可能存在家人，而这边我们打算在后面添加特征字段，有无房间来作为输入特征。\n",
    "\n",
    "同时，对于Name字段，我们也来从中抽取其它有用特征，比如Name字段，可以抽取出Mr，Miss，Mrs等"
   ]
  },
  {
   "cell_type": "code",
   "execution_count": 13,
   "metadata": {
    "ExecuteTime": {
     "end_time": "2019-07-06T15:27:19.046990Z",
     "start_time": "2019-07-06T15:27:19.042285Z"
    }
   },
   "outputs": [],
   "source": [
    "def feature_transform(X):\n",
    "    X.loc[(X['Cabin'].str.contains('NaN') == False), 'Cabin'] = 1\n",
    "    X['Cabin'].replace('NaN', 0, inplace=True)\n",
    "    X.loc[X['Name'].str.contains('Mrs'), 'Name'] = 'Mrs'\n",
    "    X.loc[X['Name'].str.contains('Miss'), 'Name'] = 'Miss'\n",
    "    X.loc[X['Name'].str.contains('Mr'), 'Name'] = 'Mr'\n",
    "    X.loc[(X['Name'].str.contains('Mrs|Miss|Mr', regex=True) == False) & (X['Sex'] == 'male'), 'Name'] = 'Mr'\n",
    "    X.loc[(X['Name'].str.contains('Mrs|Miss|Mr', regex=True) == False) & (X['Sex'] == 'female') & (X['Age'] <= 25), 'Name'] = 'Miss'\n",
    "    X.loc[(X['Name'].str.contains('Mrs|Miss|Mr', regex=True) == False) & (X['Sex'] == 'female') & (X['Age'] > 25), 'Name'] = 'Mrs'\n",
    "    X['Families'] = X['SibSp'] + X['Parch'] + 1\n",
    "    return X"
   ]
  },
  {
   "cell_type": "code",
   "execution_count": 14,
   "metadata": {
    "ExecuteTime": {
     "end_time": "2019-07-06T15:27:19.538030Z",
     "start_time": "2019-07-06T15:27:19.047928Z"
    }
   },
   "outputs": [],
   "source": [
    "X_train = feature_transform(X_train)\n",
    "X_test = feature_transform(X_test)"
   ]
  },
  {
   "cell_type": "code",
   "execution_count": 15,
   "metadata": {
    "ExecuteTime": {
     "end_time": "2019-07-06T15:27:19.541301Z",
     "start_time": "2019-07-06T15:27:19.539075Z"
    }
   },
   "outputs": [],
   "source": [
    "cols = ['Pclass', 'Name', 'Sex', 'SibSp', 'Parch', 'Cabin', 'Embarked', 'Families']\n",
    "\n",
    "def labelencoder(X, cols=cols):\n",
    "    le = LabelEncoder()\n",
    "    for i in cols:\n",
    "        X[i] = le.fit_transform(X[i])\n",
    "    return X"
   ]
  },
  {
   "cell_type": "code",
   "execution_count": 16,
   "metadata": {
    "ExecuteTime": {
     "end_time": "2019-07-06T15:27:19.779757Z",
     "start_time": "2019-07-06T15:27:19.542271Z"
    }
   },
   "outputs": [],
   "source": [
    "X_train = labelencoder(X_train)\n",
    "X_test = labelencoder(X_test)"
   ]
  },
  {
   "cell_type": "markdown",
   "metadata": {
    "ExecuteTime": {
     "end_time": "2019-02-16T14:12:37.350458Z",
     "start_time": "2019-02-16T14:12:37.316937Z"
    }
   },
   "source": [
    "现在就开始使用预测来补全缺失内容"
   ]
  },
  {
   "cell_type": "code",
   "execution_count": 17,
   "metadata": {
    "ExecuteTime": {
     "end_time": "2019-07-06T15:27:19.862173Z",
     "start_time": "2019-07-06T15:27:19.780736Z"
    }
   },
   "outputs": [],
   "source": [
    "from sklearn.ensemble import RandomForestClassifier, RandomForestRegressor, GradientBoostingClassifier\n",
    "from sklearn.model_selection import GridSearchCV"
   ]
  },
  {
   "cell_type": "code",
   "execution_count": 18,
   "metadata": {
    "ExecuteTime": {
     "end_time": "2019-07-06T15:27:19.870463Z",
     "start_time": "2019-07-06T15:27:19.864322Z"
    }
   },
   "outputs": [],
   "source": [
    "def gscv(X, y, categorical=True):\n",
    "    if categorical:\n",
    "        rf = RandomForestClassifier()\n",
    "    else:\n",
    "        rf = RandomForestRegressor()\n",
    "    gscv = GridSearchCV(rf, {'n_estimators': [10, 20, 40, 80, 160],\n",
    "                             'max_depth': [5, 10, 20, 40, 80],\n",
    "                             'min_samples_split': [2, 4, 6, 8, 10],\n",
    "                             'min_samples_leaf': [1, 3, 5, 7, 9],\n",
    "                             'random_state': range(100)}, cv=10, n_jobs=-1)\n",
    "    gscv.fit(X, y)\n",
    "    return gscv"
   ]
  },
  {
   "cell_type": "code",
   "execution_count": 19,
   "metadata": {
    "ExecuteTime": {
     "end_time": "2019-07-06T15:27:19.884888Z",
     "start_time": "2019-07-06T15:27:19.872586Z"
    }
   },
   "outputs": [],
   "source": [
    "def padding(X_train, X_train_copy, X_test, X_test_copy, cols=cols):\n",
    "    X = pd.concat([X_train, X_test], ignore_index=True)\n",
    "    X_copy = pd.concat([X_train_copy, X_test_copy], ignore_index=True)\n",
    "    no_dummies_cols = ['Age', 'Fare']\n",
    "    for i in X_copy.columns:\n",
    "        if len(X_copy[X_copy[i].notnull()]) < len(X_copy):\n",
    "            x_train = X[X_copy[i].notnull()]\n",
    "            y_train = X[X_copy[i].notnull()][i]\n",
    "            x_test = X[X_copy[i].isnull()]\n",
    "            if i in cols:\n",
    "                cols.remove(i)\n",
    "            else:\n",
    "                no_dummies_cols.remove(i)\n",
    "            x_train_dummies = pd.get_dummies(x_train[cols])\n",
    "            x_train_no_dummies = x_train[no_dummies_cols]\n",
    "            x_train = pd.concat([x_train_dummies, x_train_no_dummies], axis=1)\n",
    "            x_test_dummies = pd.get_dummies(x_test[cols])\n",
    "            x_test_no_dummies = x_test[no_dummies_cols]\n",
    "            x_test = pd.concat([x_test_dummies, x_test_no_dummies], axis=1)\n",
    "            if X_copy[i].dtype == 'O':\n",
    "                gscv_rf = gscv(x_train, y_train)\n",
    "                rf = RandomForestClassifier(n_estimators=gscv_rf.best_params_['n_estimators'],\n",
    "                                            max_depth=gscv_rf.best_params_['max_depth'],\n",
    "                                            min_samples_split=gscv_rf.best_params_['min_samples_split'],\n",
    "                                            min_samples_leaf=gscv_rf.best_params_['min_samples_leaf'],\n",
    "                                            random_state=gscv_rf.best_params_['random_state'])\n",
    "            else:\n",
    "                gscv_rf = gscv(x_train, y_train, categorical=False)\n",
    "                rf = RandomForestRegressor(n_estimators=gscv_rf.best_params_['n_estimators'],\n",
    "                                           max_depth=gscv_rf.best_params_['max_depth'],\n",
    "                                           min_samples_split=gscv_rf.best_params_['min_samples_split'],\n",
    "                                           min_samples_leaf=gscv_rf.best_params_['min_samples_leaf'],\n",
    "                                           random_state=gscv_rf.best_params_['random_state'])\n",
    "            rf.fit(x_train, y_train)\n",
    "            X.loc[X_copy[i].isnull(), i] = rf.predict(x_test)\n",
    "    return X.loc[X_train.index], X.loc[X_test.index + 891]"
   ]
  },
  {
   "cell_type": "code",
   "execution_count": 20,
   "metadata": {
    "ExecuteTime": {
     "end_time": "2019-07-06T20:34:10.313632Z",
     "start_time": "2019-07-06T15:27:19.886629Z"
    }
   },
   "outputs": [],
   "source": [
    "X_train, X_test = padding(X_train, X_train_copy, X_test, X_test_copy)"
   ]
  },
  {
   "cell_type": "code",
   "execution_count": 21,
   "metadata": {
    "ExecuteTime": {
     "end_time": "2019-07-06T20:34:10.316462Z",
     "start_time": "2019-07-06T20:34:10.314688Z"
    }
   },
   "outputs": [],
   "source": [
    "X_test.reset_index(inplace=True, drop=True)"
   ]
  },
  {
   "cell_type": "markdown",
   "metadata": {},
   "source": [
    "因电影里面在快要沉船时，船长说了一句，\"lady and kids first\"，所以这边我们也把这个特征凸显出来。"
   ]
  },
  {
   "cell_type": "code",
   "execution_count": 22,
   "metadata": {
    "ExecuteTime": {
     "end_time": "2019-07-06T20:34:10.328495Z",
     "start_time": "2019-07-06T20:34:10.317993Z"
    }
   },
   "outputs": [],
   "source": [
    "def decision_factor(X, X_copy):\n",
    "    X.loc[X['Age'] <= 6, 'Special'] = 'Kid'\n",
    "    X.loc[(X_copy['Sex'] == 'female') & (X['Special'] != 'Kid'), 'Special'] = 'Lady'\n",
    "    X.loc[X['Special'].isnull(), 'Special'] = 'Others'\n",
    "    return X"
   ]
  },
  {
   "cell_type": "code",
   "execution_count": 23,
   "metadata": {
    "ExecuteTime": {
     "end_time": "2019-07-06T20:34:10.385202Z",
     "start_time": "2019-07-06T20:34:10.332577Z"
    }
   },
   "outputs": [],
   "source": [
    "X_train = decision_factor(X_train, X_train_copy)\n",
    "X_test = decision_factor(X_test, X_test_copy)"
   ]
  },
  {
   "cell_type": "code",
   "execution_count": 24,
   "metadata": {
    "ExecuteTime": {
     "end_time": "2019-07-06T20:34:10.391876Z",
     "start_time": "2019-07-06T20:34:10.386977Z"
    }
   },
   "outputs": [],
   "source": [
    "X_train = labelencoder(X_train, cols=['Special'])\n",
    "X_test = labelencoder(X_test, cols=['Special'])\n",
    "\n",
    "x_train, x_val, ytrain, y_val = train_test_split(X_train, y_train, test_size=0.25, random_state=0)"
   ]
  },
  {
   "cell_type": "code",
   "execution_count": 25,
   "metadata": {
    "ExecuteTime": {
     "end_time": "2019-07-06T21:30:21.678631Z",
     "start_time": "2019-07-06T20:34:10.392789Z"
    }
   },
   "outputs": [
    {
     "data": {
      "text/plain": [
       "0.820627802690583"
      ]
     },
     "execution_count": 25,
     "metadata": {},
     "output_type": "execute_result"
    }
   ],
   "source": [
    "gscv_rf = gscv(x_train, ytrain)\n",
    "rf = RandomForestClassifier(n_estimators=gscv_rf.best_params_['n_estimators'],\n",
    "                            max_depth=gscv_rf.best_params_['max_depth'],\n",
    "                            min_samples_split=gscv_rf.best_params_['min_samples_split'],\n",
    "                            min_samples_leaf=gscv_rf.best_params_['min_samples_leaf'],\n",
    "                            random_state=gscv_rf.best_params_['random_state'])\n",
    "rf.fit(x_train, ytrain)\n",
    "rf.score(x_val, y_val)"
   ]
  },
  {
   "cell_type": "code",
   "execution_count": 26,
   "metadata": {
    "ExecuteTime": {
     "end_time": "2019-07-06T21:36:13.022826Z",
     "start_time": "2019-07-06T21:30:21.686917Z"
    }
   },
   "outputs": [],
   "source": [
    "params = {'n_estimators': [10, 20, 40, 80, 160],\n",
    "          'max_depth': [5, 10, 20, 40, 80],\n",
    "          'min_samples_split': [2, 4, 6, 8, 10],\n",
    "          'min_samples_leaf': [1, 3, 5, 7, 9],\n",
    "          'random_state': list(range(100))}\n",
    "\n",
    "max_iter = 10000\n",
    "expected_score = 0.95\n",
    "count1 = 0\n",
    "rf_score = 0\n",
    "rf_score_list = []\n",
    "\n",
    "while rf_score < expected_score:        \n",
    "    prod = 1\n",
    "    selected_params = {}\n",
    "    for k, v in params.items():\n",
    "        prod *= len(v)\n",
    "        if len(v) % 2 == 0:\n",
    "            selected_value = v[np.random.choice([len(v) // 2 - 1, len(v) // 2], 1)[0]]\n",
    "            selected_params.update({k:selected_value})\n",
    "            v.remove(selected_value)\n",
    "            v1 = copy.deepcopy(v)\n",
    "            v2 = copy.deepcopy(v)\n",
    "            v1.insert(0, selected_value)\n",
    "            v2.append(selected_value)\n",
    "            v_e = [v1, v2]\n",
    "            params[k] = v_e[np.random.choice([v_e.index(v1), v_e.index(v2)], 1)[0]]\n",
    "        else:\n",
    "            selected_value = v[len(v) // 2]\n",
    "            selected_params.update({k:selected_value})\n",
    "            v.remove(selected_value)\n",
    "            v1 = copy.deepcopy(v)\n",
    "            v2 = copy.deepcopy(v)\n",
    "            v1.insert(0, selected_value)\n",
    "            v2.append(selected_value)\n",
    "            v_e = [v1, v2]\n",
    "            params[k] = v_e[np.random.choice([v_e.index(v1), v_e.index(v2)], 1)[0]]\n",
    "    rf = RandomForestClassifier(n_estimators=selected_params['n_estimators'],\n",
    "                                max_depth=selected_params['max_depth'],\n",
    "                                min_samples_split=selected_params['min_samples_split'],\n",
    "                                min_samples_leaf=selected_params['min_samples_leaf'],\n",
    "                                random_state=selected_params['random_state'])\n",
    "    rf.fit(x_train, ytrain)\n",
    "    rf_score = rf.score(x_val, y_val)\n",
    "    rf_score_list.append(rf_score)\n",
    "    if count1 < min(prod, max_iter):\n",
    "        count1 += 1\n",
    "    else:\n",
    "        break"
   ]
  },
  {
   "cell_type": "code",
   "execution_count": 27,
   "metadata": {
    "ExecuteTime": {
     "end_time": "2019-07-06T21:36:13.026841Z",
     "start_time": "2019-07-06T21:36:13.023761Z"
    }
   },
   "outputs": [
    {
     "data": {
      "text/plain": [
       "(0.8699551569506726, 2195)"
      ]
     },
     "execution_count": 27,
     "metadata": {},
     "output_type": "execute_result"
    }
   ],
   "source": [
    "max(rf_score_list), np.argmax(rf_score_list)"
   ]
  },
  {
   "cell_type": "code",
   "execution_count": null,
   "metadata": {
    "ExecuteTime": {
     "start_time": "2019-07-06T15:27:17.824Z"
    }
   },
   "outputs": [],
   "source": [
    "params = {'n_estimators': [10, 20, 40, 80, 160],\n",
    "          'max_depth': [5, 10, 20, 40, 80],\n",
    "          'min_samples_split': [2, 4, 6, 8, 10],\n",
    "          'min_samples_leaf': [1, 3, 5, 7, 9],\n",
    "          'random_state': list(range(100))}\n",
    "\n",
    "gscv_score = 0\n",
    "count2 = 0\n",
    "gscv_score_list = []\n",
    "\n",
    "selected_params = {}\n",
    "for k, v in params.items():\n",
    "    selected_params.update({k:np.random.choice(v, 1)[0]})\n",
    "rf = RandomForestClassifier(n_estimators=selected_params['n_estimators'],\n",
    "                            max_depth=selected_params['max_depth'],\n",
    "                            min_samples_split=selected_params['min_samples_split'],\n",
    "                            min_samples_leaf=selected_params['min_samples_leaf'],\n",
    "                            random_state=selected_params['random_state'])\n",
    "rf.fit(x_train, ytrain)\n",
    "rf_score = rf.score(x_val, y_val)\n",
    "\n",
    "while gscv_score < expected_score:\n",
    "    while gscv_score <= rf_score:\n",
    "        selected_params1, expolit_params = {}, {}\n",
    "        while selected_params1 == selected_params:\n",
    "            pass\n",
    "        else:\n",
    "            for k, v in params.items():\n",
    "                selected_params1.update({k:np.random.choice(v, 1)[0]})\n",
    "        selected_index1 = params['n_estimators'].index(selected_params1['n_estimators'])\n",
    "        selected_index2 = params['max_depth'].index(selected_params1['max_depth'])\n",
    "        selected_index3 = params['min_samples_split'].index(selected_params1['min_samples_split'])\n",
    "        selected_index4 = params['min_samples_leaf'].index(selected_params1['min_samples_leaf'])\n",
    "        selected_index5 = params['random_state'].index(selected_params1['random_state'])\n",
    "        if selected_index1 == 0:\n",
    "            expolit_value1 = [params['n_estimators'][selected_index1], params['n_estimators'][selected_index1 + 1], params['n_estimators'][selected_index1 + 2]]\n",
    "        elif selected_index1 == len(params['n_estimators']) - 1:\n",
    "            expolit_value1 = [params['n_estimators'][selected_index1 - 2], params['n_estimators'][selected_index1 - 1], params['n_estimators'][selected_index1]]\n",
    "        else:\n",
    "            expolit_value1 = [params['n_estimators'][selected_index1 - 1], params['n_estimators'][selected_index1], params['n_estimators'][selected_index1 + 1]]\n",
    "        expolit_params.update({'n_estimators':expolit_value1})\n",
    "        if selected_index2 == 0:\n",
    "            expolit_value2 = [params['max_depth'][selected_index2], params['max_depth'][selected_index2 + 1], params['max_depth'][selected_index2 + 2]]\n",
    "        elif selected_index2 == len(params['max_depth']) - 1:\n",
    "            expolit_value2 = [params['max_depth'][selected_index2 - 2], params['max_depth'][selected_index2 - 1], params['max_depth'][selected_index2]]\n",
    "        else:\n",
    "            expolit_value2 = [params['max_depth'][selected_index2 - 1], params['max_depth'][selected_index2], params['max_depth'][selected_index2 + 1]]\n",
    "        expolit_params.update({'max_depth':expolit_value2})\n",
    "        if selected_index3 == 0:\n",
    "            expolit_value3 = [params['min_samples_split'][selected_index3], params['min_samples_split'][selected_index3 + 1], params['min_samples_split'][selected_index3 + 2]]\n",
    "        elif selected_index3 == len(params['min_samples_split']) - 1:\n",
    "            expolit_value3 = [params['min_samples_split'][selected_index3 - 2], params['min_samples_split'][selected_index3 - 1], params['min_samples_split'][selected_index3]]\n",
    "        else:\n",
    "            expolit_value3 = [params['min_samples_split'][selected_index3 - 1], params['min_samples_split'][selected_index3], params['min_samples_split'][selected_index3 + 1]]\n",
    "        expolit_params.update({'min_samples_split':expolit_value3})\n",
    "        if selected_index4 == 0:\n",
    "            expolit_value4 = [params['min_samples_leaf'][selected_index4], params['min_samples_leaf'][selected_index4 + 1], params['min_samples_leaf'][selected_index4 + 2]]\n",
    "        elif selected_index4 == len(params['min_samples_leaf']) - 1:\n",
    "            expolit_value4 = [params['min_samples_leaf'][selected_index4 - 2], params['min_samples_leaf'][selected_index4 - 1], params['min_samples_leaf'][selected_index4]]\n",
    "        else:\n",
    "            expolit_value4 = [params['min_samples_leaf'][selected_index4 - 1], params['min_samples_leaf'][selected_index4], params['min_samples_leaf'][selected_index4 + 1]]\n",
    "        expolit_params.update({'min_samples_leaf':expolit_value4})\n",
    "        if selected_index5 == 0:\n",
    "            expolit_value5 = [params['random_state'][selected_index5], params['random_state'][selected_index5 + 1], params['random_state'][selected_index5 + 2]]\n",
    "        elif selected_index5 == len(params['random_state']) - 1:\n",
    "            expolit_value5 = [params['random_state'][selected_index5 - 2], params['random_state'][selected_index5 - 1], params['random_state'][selected_index5]]\n",
    "        else:\n",
    "            expolit_value5 = [params['random_state'][selected_index5 - 1], params['random_state'][selected_index5], params['random_state'][selected_index5 + 1]]\n",
    "        expolit_params.update({'random_state':expolit_value5})\n",
    "        rf = RandomForestClassifier()\n",
    "        gscv = GridSearchCV(rf, expolit_params, cv=10, n_jobs=-1, iid=False)\n",
    "        gscv.fit(x_train, ytrain)\n",
    "        gscv_score = gscv.best_score_\n",
    "        gscv_score_list.append(gscv_score)\n",
    "        rf_score = gscv_score\n",
    "        gscv_score = 0\n",
    "        selected_params = selected_params1\n",
    "    if count2 < max_iter:\n",
    "        count2 += 1\n",
    "    else:\n",
    "        break"
   ]
  },
  {
   "cell_type": "code",
   "execution_count": null,
   "metadata": {
    "ExecuteTime": {
     "start_time": "2019-07-06T15:27:17.825Z"
    }
   },
   "outputs": [],
   "source": [
    "max(gscv_score_list), np.argmax(gscv_score_list)"
   ]
  },
  {
   "cell_type": "code",
   "execution_count": null,
   "metadata": {
    "ExecuteTime": {
     "start_time": "2019-07-06T15:27:17.826Z"
    }
   },
   "outputs": [],
   "source": [
    "params = {'n_estimators': [10, 20, 40, 80, 160],\n",
    "          'max_depth': [5, 10, 20, 40, 80],\n",
    "          'min_samples_split': [2, 4, 6, 8, 10],\n",
    "          'min_samples_leaf': [1, 3, 5, 7, 9],\n",
    "          'random_state': list(range(100))}\n",
    "\n",
    "max_iter = 10000\n",
    "expected_score = 0.95\n",
    "rf1_score = 0\n",
    "count3 = 0\n",
    "rf1_score_list = []\n",
    "\n",
    "selected_params = {}\n",
    "for k, v in params.items():\n",
    "    selected_params.update({k:np.random.choice(v, 1)[0]})\n",
    "rf = RandomForestClassifier(n_estimators=selected_params['n_estimators'],\n",
    "                            max_depth=selected_params['max_depth'],\n",
    "                            min_samples_split=selected_params['min_samples_split'],\n",
    "                            min_samples_leaf=selected_params['min_samples_leaf'],\n",
    "                            random_state=selected_params['random_state'])\n",
    "rf.fit(x_train, ytrain)\n",
    "rf_score = rf.score(x_val, y_val)\n",
    "\n",
    "while rf1_score < expected_score:\n",
    "    if count3 == 0:\n",
    "        pass\n",
    "    else:\n",
    "        rf_score = rf1_score\n",
    "        rf1_score = 0\n",
    "    random_num_paths = np.random.choice([2, 3, 4], 1)[0]\n",
    "    if random_num_paths == 2:\n",
    "        while rf1_score <= rf_score:\n",
    "            selected_params1, selected_params2 = {}, {}\n",
    "            while selected_params1 == selected_params and selected_params2 == selected_params:\n",
    "                pass\n",
    "            else:\n",
    "                for k, v in params.items():\n",
    "                    selected_params1.update({k:np.random.choice(v, 1)[0]})\n",
    "                    selected_params2.update({k:np.random.choice(v, 1)[0]})\n",
    "            selected_params_list = [selected_params1, selected_params2]\n",
    "            selected_params = selected_params_list[np.random.choice([selected_params_list.index(selected_params1), selected_params_list.index(selected_params2)], 1)[0]]\n",
    "            rf1 = RandomForestClassifier(n_estimators=selected_params['n_estimators'],\n",
    "                                         max_depth=selected_params['max_depth'],\n",
    "                                         min_samples_split=selected_params['min_samples_split'],\n",
    "                                         min_samples_leaf=selected_params['min_samples_leaf'],\n",
    "                                         random_state=selected_params['random_state'])\n",
    "            rf1.fit(x_train, ytrain)\n",
    "            rf1_score = rf1.score(x_val, y_val)\n",
    "    elif random_num_paths == 3:\n",
    "        while rf1_score <= rf_score:\n",
    "            selected_params1, selected_params2, selected_params3 = {}, {}, {}\n",
    "            while selected_params1 == selected_params and selected_params2 == selected_params and selected_params3 == selected_params:\n",
    "                pass\n",
    "            else:\n",
    "                for k, v in params.items():\n",
    "                    selected_params1.update({k:np.random.choice(v, 1)[0]})\n",
    "                    selected_params2.update({k:np.random.choice(v, 1)[0]})\n",
    "                    selected_params3.update({k:np.random.choice(v, 1)[0]})\n",
    "            selected_params_list = [selected_params1, selected_params2, selected_params3]\n",
    "            selected_params = selected_params_list[np.random.choice([selected_params_list.index(selected_params1), selected_params_list.index(selected_params2), selected_params_list.index(selected_params3)], 1)[0]]\n",
    "            rf1 = RandomForestClassifier(n_estimators=selected_params['n_estimators'],\n",
    "                                         max_depth=selected_params['max_depth'],\n",
    "                                         min_samples_split=selected_params['min_samples_split'],\n",
    "                                         min_samples_leaf=selected_params['min_samples_leaf'],\n",
    "                                         random_state=selected_params['random_state'])\n",
    "            rf1.fit(x_train, ytrain)\n",
    "            rf1_score = rf1.score(x_val, y_val)\n",
    "    else:\n",
    "        while rf1_score <= rf_score:\n",
    "            selected_params1, selected_params2, selected_params3, selected_params4 = {}, {}, {}, {}\n",
    "            while selected_params1 != selected_params and selected_params2 != selected_params and selected_params3 != selected_params and selected_params4 != selected_params:\n",
    "                pass\n",
    "            else:\n",
    "                for k, v in params.items():\n",
    "                    selected_params1.update({k:np.random.choice(v, 1)[0]})\n",
    "                    selected_params2.update({k:np.random.choice(v, 1)[0]})\n",
    "                    selected_params3.update({k:np.random.choice(v, 1)[0]})\n",
    "                    selected_params4.update({k:np.random.choice(v, 1)[0]})\n",
    "            selected_params_list = [selected_params1, selected_params2, selected_params3, selected_params4]\n",
    "            selected_params = selected_params_list[np.random.choice([selected_params_list.index(selected_params1), selected_params_list.index(selected_params2), selected_params_list.index(selected_params3), selected_params_list.index(selected_params4)], 1)[0]]\n",
    "            rf1 = RandomForestClassifier(n_estimators=selected_params['n_estimators'],\n",
    "                                         max_depth=selected_params['max_depth'],\n",
    "                                         min_samples_split=selected_params['min_samples_split'],\n",
    "                                         min_samples_leaf=selected_params['min_samples_leaf'],\n",
    "                                         random_state=selected_params['random_state'])\n",
    "            rf1.fit(x_train, ytrain)\n",
    "            rf1_score = rf1.score(x_val, y_val)\n",
    "    rf1_score_list.append(rf1_score)\n",
    "    if count3 <= min(prod, max_iter):\n",
    "        count3 += 1\n",
    "    else:\n",
    "        break"
   ]
  },
  {
   "cell_type": "code",
   "execution_count": null,
   "metadata": {
    "ExecuteTime": {
     "start_time": "2019-07-06T15:27:17.828Z"
    }
   },
   "outputs": [],
   "source": [
    "max(rf1_score_list), np.argmx(rf1_score_list)"
   ]
  },
  {
   "cell_type": "code",
   "execution_count": null,
   "metadata": {
    "ExecuteTime": {
     "start_time": "2019-07-06T15:27:17.829Z"
    }
   },
   "outputs": [],
   "source": [
    "gbdt = GradientBoostingClassifier()\n",
    "gscv_gbdt = GridSearchCV(gbdt, {'n_estimators': [50, 80, 100, 200],\n",
    "                                'max_depth': [3, 5, 10, 30, 50],\n",
    "                                'learning_rate': [0.05, 0.1, 0.2],\n",
    "                                'min_samples_split': [2, 5, 10],\n",
    "                                'min_samples_leaf': [1, 2, 5],\n",
    "                                'subsample': [0.6, 0.8, 1.0],\n",
    "                                'random_state': range(101)}, cv=10, n_jobs=-1, iid=False)\n",
    "gscv_gbdt.fit(x_train, ytrain)"
   ]
  },
  {
   "cell_type": "code",
   "execution_count": null,
   "metadata": {
    "ExecuteTime": {
     "start_time": "2019-07-06T15:27:17.831Z"
    }
   },
   "outputs": [],
   "source": [
    "gbdt = GradientBoostingClassifier(loss='exponential',\n",
    "                                  n_estimators=gscv_gbdt.best_params_['n_estimators'],\n",
    "                                  max_depth=gscv_gbdt.best_params_['max_depth'],\n",
    "                                  learning_rate=gscv_gbdt.best_params_['learning_rate'],\n",
    "                                  min_samples_split=gscv_gbdt.best_params_['min_samples_split'],\n",
    "                                  min_samples_leaf=gscv_gbdt.best_params_['min_samples_leaf'],\n",
    "                                  subsample=gscv_gbdt.best_params_['subsample'],\n",
    "                                  random_state=gscv_gbdt.best_params_['random_state'])\n",
    "gbdt.fit(x_train, ytrain)\n",
    "gbdt.score(x_val, y_val)"
   ]
  },
  {
   "cell_type": "code",
   "execution_count": null,
   "metadata": {
    "ExecuteTime": {
     "start_time": "2019-07-06T15:27:17.832Z"
    }
   },
   "outputs": [],
   "source": [
    "rf_feature_importances = pd.DataFrame({'百分比1':rf.feature_importances_}, index=X_train.columns).sort_values('百分比1', ascending=False)\n",
    "gbdt_feature_importances = pd.DataFrame({'百分比2':gbdt.feature_importances_}, index=X_train.columns).sort_values('百分比2', ascending=False)\n",
    "pd.concat([rf_feature_importances, gbdt_feature_importances], axis=1)"
   ]
  },
  {
   "cell_type": "markdown",
   "metadata": {},
   "source": [
    "有了预测的数据，我们打算把这个目标数据加入到前面缺失数据预测补全中，作为其中一个特征来增加补全数据的质量。"
   ]
  },
  {
   "cell_type": "code",
   "execution_count": null,
   "metadata": {
    "ExecuteTime": {
     "start_time": "2019-07-06T15:27:17.833Z"
    }
   },
   "outputs": [],
   "source": [
    "rf_score = rf.score(x_val, y_val)\n",
    "\n",
    "count = 0\n",
    "scores = []\n",
    "while rf_score <= 0.99:\n",
    "    y_pred = rf.predict(X_test)\n",
    "    X_train_with_target = pd.concat([X_train, pd.DataFrame({'Survived': y_train})], axis=1)\n",
    "    X_test_with_target = pd.concat([X_test, pd.DataFrame({'Survived': y_pred})], axis=1)\n",
    "    X_train, X_test = padding(X_train_with_target, X_train_copy, X_test_with_target, X_test_copy, cols=['Pclass', 'Name', 'Sex', 'SibSp', 'Parch', 'Cabin', 'Embarked', 'Families', 'Special', 'Survived'])\n",
    "    X_test.reset_index(inplace=True, drop=True)\n",
    "    X_train.drop('Survived', axis=1, inplace=True)\n",
    "    X_test.drop('Survived', axis=1, inplace=True)\n",
    "    x_train, x_val, ytrain, y_val = train_test_split(X_train, y_train, test_size=0.25, random_state=0)\n",
    "    gscv_rf = gscv(x_train, ytrain)\n",
    "    rf = RandomForestClassifier(n_estimators=gscv_rf.best_params_['n_estimators'],\n",
    "                                max_depth=gscv_rf.best_params_['max_depth'],\n",
    "                                min_samples_split=gscv_rf.best_params_['min_samples_split'],\n",
    "                                min_samples_leaf=gscv_rf.best_params_['min_samples_leaf'],\n",
    "                                random_state=gscv_rf.best_params_['random_state'], oob_score=True)\n",
    "    rf.fit(x_train, ytrain)\n",
    "    rf_score = rf.score(x_val, y_val)\n",
    "    scores.append(rf_score)\n",
    "    if count < 50:\n",
    "        count += 1\n",
    "    else:\n",
    "        break"
   ]
  },
  {
   "cell_type": "code",
   "execution_count": null,
   "metadata": {
    "ExecuteTime": {
     "start_time": "2019-07-06T15:27:17.834Z"
    }
   },
   "outputs": [],
   "source": [
    "max(scores), np.argmax(scores)"
   ]
  },
  {
   "cell_type": "code",
   "execution_count": null,
   "metadata": {
    "ExecuteTime": {
     "start_time": "2019-07-06T15:27:17.835Z"
    }
   },
   "outputs": [],
   "source": [
    "rf.oob_score_"
   ]
  }
 ],
 "metadata": {
  "kernelspec": {
   "display_name": "Python 3",
   "language": "python",
   "name": "python3"
  },
  "language_info": {
   "codemirror_mode": {
    "name": "ipython",
    "version": 3
   },
   "file_extension": ".py",
   "mimetype": "text/x-python",
   "name": "python",
   "nbconvert_exporter": "python",
   "pygments_lexer": "ipython3",
   "version": "3.6.8"
  },
  "toc": {
   "base_numbering": 1,
   "nav_menu": {},
   "number_sections": true,
   "sideBar": true,
   "skip_h1_title": false,
   "title_cell": "Table of Contents",
   "title_sidebar": "Contents",
   "toc_cell": false,
   "toc_position": {},
   "toc_section_display": true,
   "toc_window_display": false
  },
  "varInspector": {
   "cols": {
    "lenName": 16,
    "lenType": 16,
    "lenVar": 40
   },
   "kernels_config": {
    "python": {
     "delete_cmd_postfix": "",
     "delete_cmd_prefix": "del ",
     "library": "var_list.py",
     "varRefreshCmd": "print(var_dic_list())"
    },
    "r": {
     "delete_cmd_postfix": ") ",
     "delete_cmd_prefix": "rm(",
     "library": "var_list.r",
     "varRefreshCmd": "cat(var_dic_list()) "
    }
   },
   "types_to_exclude": [
    "module",
    "function",
    "builtin_function_or_method",
    "instance",
    "_Feature"
   ],
   "window_display": false
  }
 },
 "nbformat": 4,
 "nbformat_minor": 2
}
